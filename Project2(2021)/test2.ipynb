{
 "metadata": {
  "language_info": {
   "codemirror_mode": {
    "name": "ipython",
    "version": 3
   },
   "file_extension": ".py",
   "mimetype": "text/x-python",
   "name": "python",
   "nbconvert_exporter": "python",
   "pygments_lexer": "ipython3",
   "version": "3.9.5"
  },
  "orig_nbformat": 2,
  "kernelspec": {
   "name": "python395jvsc74a57bd0417d50cab6d0ee120e6de62fb3f5f413d1e73fa5d22c176bf88fbbd0170ec55f",
   "display_name": "Python 3.9.4 64-bit (windows store)"
  },
  "metadata": {
   "interpreter": {
    "hash": "417d50cab6d0ee120e6de62fb3f5f413d1e73fa5d22c176bf88fbbd0170ec55f"
   }
  }
 },
 "nbformat": 4,
 "nbformat_minor": 2,
 "cells": [
  {
   "cell_type": "code",
   "execution_count": 1,
   "metadata": {},
   "outputs": [],
   "source": [
    "import os\n",
    "import glob\n",
    "import sys\n",
    "import numpy as np\n",
    "import cv2\n",
    "\n",
    "def imshow(img):\n",
    "    cv2.imshow('a', img)\n",
    "    cv2.waitKey(0)\n",
    "    cv2.destroyAllWindows()"
   ]
  },
  {
   "cell_type": "code",
   "execution_count": 2,
   "metadata": {},
   "outputs": [],
   "source": [
    "def get_file_list(path_dir):\n",
    "    files = os.listdir(path_dir)\n",
    "    return [file for file in files if file.endswith(\".pgm\")]\n",
    "\n",
    "def read_imgs(path_dir):\n",
    "    files = get_file_list(path_dir)\n",
    "    files.sort()\n",
    "    imgs = []\n",
    "    for file in files:\n",
    "        imgs.append(cv2.imread(path_dir+'/'+file, -1))\n",
    "    return imgs\n",
    "\n",
    "def flat_imgs(imgs):\n",
    "    H, W = imgs[0].shape\n",
    "    L = len(imgs)\n",
    "    result = np.zeros((H*W, L))\n",
    "    for i, img in enumerate(imgs):\n",
    "        temp = img.astype(np.uint8)\n",
    "        result[:, i] = temp.reshape(H*W, )\n",
    "    return np.array(result).astype(np.uint8)\n",
    "\n",
    "def cal_number_of_PC(input_percentage, S):\n",
    "    total = S.sum()\n",
    "    sum = 0\n",
    "    for i, sv in enumerate(S):\n",
    "        sum += sv\n",
    "        if sum/total >= input_percentage:\n",
    "            return i+1\n",
    "\n",
    "def step1_print(input_percentage, selected_dimension):\n",
    "    print('##########  STEP 1  ##########')\n",
    "    print(f\"Input Percentage: {input_percentage}\")\n",
    "    print(f\"Selected Dimension: {selected_dimension}\")"
   ]
  },
  {
   "cell_type": "code",
   "execution_count": 3,
   "metadata": {},
   "outputs": [],
   "source": [
    "input_percentage = 0.95 #float(sys.argv[1])\n",
    "STUDENT_CODE = '2019193016'\n",
    "FILE_NAME = 'output.txt'\n",
    "\n",
    "path_dir = 'faces_training'\n",
    "\n",
    "imgs = read_imgs(path_dir)\n",
    "X = flat_imgs(imgs)"
   ]
  },
  {
   "cell_type": "code",
   "execution_count": 11,
   "metadata": {},
   "outputs": [
    {
     "output_type": "stream",
     "name": "stdout",
     "text": [
      "[[51.66666667 54.23076923 56.41025641 ... 73.51282051 71.05128205\n  68.74358974]\n [52.35897436 54.46153846 56.48717949 ... 73.20512821 70.69230769\n  68.8974359 ]\n [52.84615385 54.84615385 57.05128205 ... 72.30769231 71.12820513\n  69.53846154]\n ...\n [47.76923077 48.61538462 49.82051282 ... 63.12820513 61.28205128\n  59.02564103]\n [48.56410256 49.17948718 49.76923077 ... 62.87179487 62.\n  60.74358974]\n [48.79487179 49.8974359  50.51282051 ... 64.53846154 63.35897436\n  61.35897436]]\n"
     ]
    }
   ],
   "source": [
    "mean_img = np.ndarray((len(X),1))\n",
    "for i in range(len(X)):\n",
    "    mean_img[i] = X[i, :].mean()\n",
    "\n",
    "print((mean_img).reshape(192, 168))"
   ]
  },
  {
   "cell_type": "code",
   "execution_count": 10,
   "metadata": {},
   "outputs": [],
   "source": [
    "imshow(mean_img.astype(np.uint8).reshape(192, 168))"
   ]
  },
  {
   "cell_type": "code",
   "execution_count": 20,
   "metadata": {},
   "outputs": [],
   "source": [
    "zero_mean_X = np.subtract(X.astype(np.float64), mean_img).astype(np.uint8)\n",
    "\n",
    "imshow((255-zero_mean_X[:,5]).reshape(192, 168))"
   ]
  },
  {
   "cell_type": "code",
   "execution_count": null,
   "metadata": {},
   "outputs": [],
   "source": [
    "U, S, V = np.linalg.svd(zero_mean_X, full_matrices=False)\n"
   ]
  },
  {
   "cell_type": "code",
   "execution_count": null,
   "metadata": {},
   "outputs": [],
   "source": [
    "import matplotlib.pyplot as plt\n",
    "\n",
    "cv2.imshow('test', np.round(U[:,1].reshape(192, 168)))\n",
    "cv2.waitKey(0)\n",
    "cv2.destroyAllWindows()\n",
    "# fig = plt.figure()\n",
    "# plt.imshow(U[:,1].reshape(192, 168), cmap = 'gray')"
   ]
  },
  {
   "cell_type": "code",
   "execution_count": null,
   "metadata": {},
   "outputs": [],
   "source": [
    "imgs[0]"
   ]
  },
  {
   "cell_type": "code",
   "execution_count": null,
   "metadata": {},
   "outputs": [],
   "source": [
    "cal_number_of_PC(0.95, S)"
   ]
  },
  {
   "cell_type": "code",
   "execution_count": null,
   "metadata": {},
   "outputs": [],
   "source": [
    "all_faces = np.zeros((5*192, 8*168)).astype(np.float64)\n",
    "for i in range(39):\n",
    "    r = int(i / 8)\n",
    "    c = int(i % 8)\n",
    "    all_faces[r*192:(r+1)*192, c*168:(c+1)*168] = (U[:, i]).reshape(192,168)\n"
   ]
  },
  {
   "cell_type": "code",
   "execution_count": null,
   "metadata": {},
   "outputs": [],
   "source": [
    "all_faces = np.zeros((5*192, 8*168)).astype(np.float64)"
   ]
  },
  {
   "cell_type": "code",
   "execution_count": null,
   "metadata": {},
   "outputs": [],
   "source": [
    "plt.imshow((255*np.clip(0.5 - all_faces, 0, 1)).astype(np.uint8), cmap='gray')\n",
    "plt.show()\n",
    "plt.imsave('all_faces.png', (255*np.clip(0.5 - all_faces, 0, 1)).astype(np.uint8), cmap='gray')"
   ]
  },
  {
   "cell_type": "code",
   "execution_count": null,
   "metadata": {},
   "outputs": [],
   "source": [
    "cv2.imwrite('all_faces.png', (255*np.clip(0.5 - all_faces, 0, 1)).astype(np.uint8))\n"
   ]
  },
  {
   "cell_type": "code",
   "execution_count": null,
   "metadata": {},
   "outputs": [],
   "source": [
    "ans = (255*np.clip(all_faces, 0, 1)).astype(np.uint8)"
   ]
  },
  {
   "cell_type": "code",
   "execution_count": null,
   "metadata": {},
   "outputs": [],
   "source": [
    "type(ans[0][0])"
   ]
  }
 ]
}